{
 "cells": [
  {
   "cell_type": "code",
   "execution_count": null,
   "id": "8750e888",
   "metadata": {},
   "outputs": [],
   "source": [
    "# https://machinelearningmastery.com/moving-average-smoothing-for-time-series-forecasting-python/"
   ]
  },
  {
   "cell_type": "code",
   "execution_count": null,
   "id": "49e8d986",
   "metadata": {},
   "outputs": [],
   "source": [
    "import chardet\n",
    "with open('james_training.xlsx', 'rb') as rawdata:\n",
    "    result = chardet.detect(rawdata.read(100000))\n",
    "result"
   ]
  },
  {
   "cell_type": "code",
   "execution_count": null,
   "id": "0a0c559c",
   "metadata": {},
   "outputs": [],
   "source": []
  },
  {
   "cell_type": "code",
   "execution_count": null,
   "id": "097cf687",
   "metadata": {},
   "outputs": [],
   "source": []
  },
  {
   "cell_type": "code",
   "execution_count": null,
   "id": "89435caa",
   "metadata": {},
   "outputs": [],
   "source": [
    "from pandas import read_csv\n",
    "from matplotlib import pyplot\n",
    "from matplotlib.pyplot import figure\n",
    "import matplotlib.pyplot as plt\n",
    "\n",
    "series = read_csv(r'new_james.txt', header=0, index_col=0,sep='\\t')\n"
   ]
  },
  {
   "cell_type": "code",
   "execution_count": null,
   "id": "94b39d1a",
   "metadata": {},
   "outputs": [],
   "source": [
    "series.head()"
   ]
  },
  {
   "cell_type": "code",
   "execution_count": null,
   "id": "5eb02b48",
   "metadata": {},
   "outputs": [],
   "source": [
    "series.shape"
   ]
  },
  {
   "cell_type": "code",
   "execution_count": null,
   "id": "140b1e9d",
   "metadata": {},
   "outputs": [],
   "source": [
    "series.boxplot(grid='false', color='blue',fontsize=10, rot=30, showfliers=False )"
   ]
  },
  {
   "cell_type": "code",
   "execution_count": null,
   "id": "ca9bd689",
   "metadata": {},
   "outputs": [],
   "source": [
    "df=series"
   ]
  },
  {
   "cell_type": "code",
   "execution_count": null,
   "id": "c435315d",
   "metadata": {},
   "outputs": [],
   "source": [
    "Q1_return = df['Returns'].quantile(0.25)\n",
    "Q3_return = df['Returns'].quantile(0.75)\n",
    "IQR_return = Q3_return - Q1_return    #IQR is interquartile range. \n",
    "\n",
    "filter = (df['Returns'] >= Q1_return - 1.5 * IQR_return) & (df['Returns'] <= Q3_return + 1.5 *IQR_return)\n",
    "df.loc[filter]"
   ]
  },
  {
   "cell_type": "code",
   "execution_count": null,
   "id": "5735aef2",
   "metadata": {},
   "outputs": [],
   "source": [
    "Q1_return"
   ]
  },
  {
   "cell_type": "code",
   "execution_count": null,
   "id": "288ad392",
   "metadata": {},
   "outputs": [],
   "source": [
    "Q3_return\n"
   ]
  },
  {
   "cell_type": "code",
   "execution_count": null,
   "id": "0b000588",
   "metadata": {},
   "outputs": [],
   "source": [
    "Q1 = df['Sales'].quantile(0.25)\n",
    "Q3 = df['Sales'].quantile(0.75)\n",
    "IQR = Q3 - Q1    #IQR is interquartile range. \n",
    "\n",
    "filter = (df['Sales'] >= Q1 - 1.5 * IQR) & (df['Sales'] <= Q3 + 1.5 *IQR)\n",
    "df.loc[filter]"
   ]
  },
  {
   "cell_type": "code",
   "execution_count": null,
   "id": "82d9bbe7",
   "metadata": {},
   "outputs": [],
   "source": [
    "Q3"
   ]
  },
  {
   "cell_type": "code",
   "execution_count": null,
   "id": "cbd461a6",
   "metadata": {},
   "outputs": [],
   "source": [
    "Q1"
   ]
  },
  {
   "cell_type": "code",
   "execution_count": null,
   "id": "9ae4e9fb",
   "metadata": {},
   "outputs": [],
   "source": []
  },
  {
   "cell_type": "code",
   "execution_count": null,
   "id": "dba32559",
   "metadata": {},
   "outputs": [],
   "source": [
    "\n",
    "plt.rcParams[\"figure.figsize\"] = (20,3)\n",
    "print(series.head())\n",
    "figure(figsize=(18, 6), dpi=80)\n",
    "series.plot()\n",
    "pyplot.show()"
   ]
  },
  {
   "cell_type": "code",
   "execution_count": null,
   "id": "0b60b1c3",
   "metadata": {},
   "outputs": [],
   "source": [
    "series.boxplot(column=['Sales'])"
   ]
  },
  {
   "cell_type": "code",
   "execution_count": null,
   "id": "fa29b1eb",
   "metadata": {},
   "outputs": [],
   "source": [
    "print(Q1)\n",
    "print(Q3)"
   ]
  },
  {
   "cell_type": "code",
   "execution_count": null,
   "id": "ca01ecc0",
   "metadata": {},
   "outputs": [],
   "source": [
    "df2=df"
   ]
  },
  {
   "cell_type": "code",
   "execution_count": null,
   "id": "ccdec127",
   "metadata": {},
   "outputs": [],
   "source": [
    "df=df2"
   ]
  },
  {
   "cell_type": "code",
   "execution_count": null,
   "id": "59fc6015",
   "metadata": {},
   "outputs": [],
   "source": [
    "df = df[df['Sales'] < Q3]\n",
    "df= df[df['Sales'] > Q1]"
   ]
  },
  {
   "cell_type": "code",
   "execution_count": null,
   "id": "91a5421c",
   "metadata": {},
   "outputs": [],
   "source": [
    "df.shape"
   ]
  },
  {
   "cell_type": "code",
   "execution_count": null,
   "id": "0b9aba6d",
   "metadata": {},
   "outputs": [],
   "source": [
    "df = df[df['Returns'] < Q3_return]\n",
    "df = df[df['Returns'] > Q1_return]"
   ]
  },
  {
   "cell_type": "code",
   "execution_count": null,
   "id": "5adfd1c1",
   "metadata": {},
   "outputs": [],
   "source": [
    "df.shape"
   ]
  },
  {
   "cell_type": "code",
   "execution_count": null,
   "id": "852482b2",
   "metadata": {},
   "outputs": [],
   "source": [
    "\n",
    "plt.rcParams[\"figure.figsize\"] = (20,3)\n",
    "print(series.head())\n",
    "figure(figsize=(18, 6), dpi=80)\n",
    "df.plot()\n",
    "pyplot.show()"
   ]
  },
  {
   "cell_type": "code",
   "execution_count": null,
   "id": "ae52794a",
   "metadata": {},
   "outputs": [],
   "source": [
    "# Tail-rolling average transform\n",
    "rolling = df.rolling(window=3)\n",
    "rolling_mean = rolling.mean()\n",
    "print(rolling_mean.head(10))\n",
    "# plot original and transformed dataset\n",
    "series.plot()\n",
    "rolling_mean.plot(color='red')\n",
    "pyplot.show()"
   ]
  },
  {
   "cell_type": "code",
   "execution_count": null,
   "id": "5fecb267",
   "metadata": {},
   "outputs": [],
   "source": [
    "## creating varibales\n",
    "from pandas import read_csv\n",
    "from pandas import DataFrame\n",
    "from pandas import concat\n",
    "\n",
    "df = DataFrame(df.values)\n"
   ]
  },
  {
   "cell_type": "code",
   "execution_count": null,
   "id": "69b9c28f",
   "metadata": {},
   "outputs": [],
   "source": [
    "df.head()"
   ]
  },
  {
   "cell_type": "code",
   "execution_count": null,
   "id": "b9ffa5c4",
   "metadata": {},
   "outputs": [],
   "source": [
    "df_Sales= df[0]\n",
    "df_Return=df[1]"
   ]
  },
  {
   "cell_type": "code",
   "execution_count": null,
   "id": "1c359dac",
   "metadata": {},
   "outputs": [],
   "source": [
    "lag2= df_Sales.shift(2)\n",
    "lag2.head()"
   ]
  },
  {
   "cell_type": "code",
   "execution_count": null,
   "id": "e3e20325",
   "metadata": {},
   "outputs": [],
   "source": [
    "width = 3\n",
    "lag1 = df_Sales.shift(1)\n",
    "lag2= df_Sales.shift(2)\n",
    "#lag\n",
    "lag3 = df_Sales.shift(width - 1)"
   ]
  },
  {
   "cell_type": "code",
   "execution_count": null,
   "id": "b61ec929",
   "metadata": {},
   "outputs": [],
   "source": [
    "window = lag3.rolling(window=width)"
   ]
  },
  {
   "cell_type": "code",
   "execution_count": null,
   "id": "32599d9b",
   "metadata": {},
   "outputs": [],
   "source": [
    "means = window.mean()"
   ]
  },
  {
   "cell_type": "code",
   "execution_count": null,
   "id": "9ce14451",
   "metadata": {},
   "outputs": [],
   "source": [
    "dataframe = concat([means, lag1,lag2, df_Sales], axis=1)"
   ]
  },
  {
   "cell_type": "code",
   "execution_count": null,
   "id": "5fa4e452",
   "metadata": {},
   "outputs": [],
   "source": [
    "dataframe"
   ]
  },
  {
   "cell_type": "code",
   "execution_count": null,
   "id": "8018a3ab",
   "metadata": {},
   "outputs": [],
   "source": [
    "dataframe.columns = ['mean', 't-1', 't+1','t+2']"
   ]
  },
  {
   "cell_type": "code",
   "execution_count": null,
   "id": "7c9dc51a",
   "metadata": {},
   "outputs": [],
   "source": [
    "dataframe.head()"
   ]
  },
  {
   "cell_type": "code",
   "execution_count": null,
   "id": "6be6b1ec",
   "metadata": {},
   "outputs": [],
   "source": [
    "df = DataFrame(dataframe.values)\n"
   ]
  },
  {
   "cell_type": "code",
   "execution_count": null,
   "id": "81112a50",
   "metadata": {},
   "outputs": [],
   "source": [
    "#df = DataFrame(series.values)\n",
    "width = 3\n",
    "lag1 = df.shift(1)\n",
    "lag2= df.shift(2)\n",
    "lag3 = df.shift(width - 1)\n",
    "window = lag3.rolling(window=width)\n",
    "means = window.mean()\n",
    "dataframe = concat([means, lag1,lag2, df], axis=1)\n",
    "dataframe.columns = ['mean', 't-1', 't+1','t+2']\n",
    "print(dataframe.head(10))"
   ]
  },
  {
   "cell_type": "code",
   "execution_count": null,
   "id": "909fafcb",
   "metadata": {},
   "outputs": [],
   "source": []
  },
  {
   "cell_type": "code",
   "execution_count": null,
   "id": "d50bfe7e",
   "metadata": {},
   "outputs": [],
   "source": []
  },
  {
   "cell_type": "code",
   "execution_count": null,
   "id": "4503aa9e",
   "metadata": {},
   "outputs": [],
   "source": []
  },
  {
   "cell_type": "code",
   "execution_count": null,
   "id": "c06f6744",
   "metadata": {},
   "outputs": [],
   "source": [
    "\n",
    "from pandas import read_csv\n",
    "from matplotlib import pyplot\n",
    "series =  read_csv(r'new_james.txt', header=0, index_col=0,sep='\\t')\n",
    "# Tail-rolling average transform\n",
    "rolling = series.rolling(window=3)\n",
    "rolling_mean = rolling.mean()\n",
    "print(rolling_mean.head(10))\n",
    "# plot original and transformed dataset\n",
    "series.plot()\n",
    "rolling_mean.plot(color='red')\n",
    "pyplot.show()"
   ]
  },
  {
   "cell_type": "markdown",
   "id": "5486b974",
   "metadata": {},
   "source": [
    "## Moving Average as Feature Engineering"
   ]
  },
  {
   "cell_type": "code",
   "execution_count": 1,
   "id": "c3aab1e7",
   "metadata": {},
   "outputs": [],
   "source": [
    "from pandas import read_csv\n",
    "from pandas import DataFrame\n",
    "from pandas import concat\n",
    "\n",
    "import pandas as pd\n",
    "#series = read_csv('daily-total-female-births-CA.csv', header=0, index_col=0)\n",
    "df= pd.read_excel('james_training.xlsx')"
   ]
  },
  {
   "cell_type": "code",
   "execution_count": 2,
   "id": "7438ac13",
   "metadata": {},
   "outputs": [],
   "source": [
    "series=df['Sales']"
   ]
  },
  {
   "cell_type": "code",
   "execution_count": 3,
   "id": "d22fb9fe",
   "metadata": {},
   "outputs": [
    {
     "data": {
      "text/plain": [
       "0    5549\n",
       "1    4285\n",
       "2    3950\n",
       "3    3996\n",
       "4    4413\n",
       "Name: Sales, dtype: int64"
      ]
     },
     "execution_count": 3,
     "metadata": {},
     "output_type": "execute_result"
    }
   ],
   "source": [
    "series.head()"
   ]
  },
  {
   "cell_type": "markdown",
   "id": "e5488ecf",
   "metadata": {},
   "source": [
    "df = DataFrame(series.values)\n",
    "width = 3\n",
    "lag1 = df.shift(1)\n",
    "lag2= df.shift(2)\n",
    "lag3 = df.shift(width - 1)\n",
    "window = lag3.rolling(window=width)\n",
    "means = window.mean()\n",
    "dataframe = concat([means, lag1,lag2, df], axis=1)\n",
    "dataframe.columns = ['mean', 't-1', 't+1','t+2']\n",
    "print(dataframe.head(10))"
   ]
  },
  {
   "cell_type": "code",
   "execution_count": 5,
   "id": "de9d3a09",
   "metadata": {},
   "outputs": [],
   "source": [
    "######  https://machinelearningmastery.com/random-forest-for-time-series-forecasting/"
   ]
  },
  {
   "cell_type": "code",
   "execution_count": 6,
   "id": "5dd388ee",
   "metadata": {},
   "outputs": [],
   "source": [
    "values = series.values"
   ]
  },
  {
   "cell_type": "code",
   "execution_count": 9,
   "id": "64f67d9b",
   "metadata": {},
   "outputs": [
    {
     "data": {
      "text/plain": [
       "(366,)"
      ]
     },
     "execution_count": 9,
     "metadata": {},
     "output_type": "execute_result"
    }
   ],
   "source": [
    "values.shape"
   ]
  },
  {
   "cell_type": "code",
   "execution_count": null,
   "id": "5b7bb5be",
   "metadata": {},
   "outputs": [],
   "source": [
    "## Random forest for time series prediction"
   ]
  },
  {
   "cell_type": "code",
   "execution_count": 10,
   "id": "689c0486",
   "metadata": {},
   "outputs": [],
   "source": [
    "from numpy import asarray\n",
    "from pandas import read_csv\n",
    "from pandas import DataFrame\n",
    "from pandas import concat\n",
    "from sklearn.metrics import mean_absolute_error\n",
    "from sklearn.ensemble import RandomForestRegressor\n",
    "from matplotlib import pyplot\n",
    " \n",
    "# transform a time series dataset into a supervised learning dataset\n",
    "def series_to_supervised(data, n_in=1, n_out=1, dropnan=True):\n",
    "    n_vars = 1 if type(data) is list else data.shape[1]\n",
    "    df = DataFrame(data)\n",
    "    cols = list()\n",
    "    # input sequence (t-n, ... t-1)\n",
    "    for i in range(n_in, 0, -1):\n",
    "        cols.append(df.shift(i))\n",
    "    # forecast sequence (t, t+1, ... t+n)\n",
    "    for i in range(0, n_out):\n",
    "        cols.append(df.shift(-i))\n",
    "    # put it all together\n",
    "    agg = concat(cols, axis=1)\n",
    "    # drop rows with NaN values\n",
    "    if dropnan:\n",
    "        agg.dropna(inplace=True)\n",
    "    return agg.values\n",
    " \n",
    "# split a univariate dataset into train/test sets\n",
    "def train_test_split(data, n_test):\n",
    "    return data[:-n_test, :], data[-n_test:, :]\n",
    " \n",
    "# fit an random forest model and make a one step prediction\n",
    "def random_forest_forecast(train, testX):\n",
    "    # transform list into array\n",
    "    train = asarray(train)\n",
    "    # split into input and output columns\n",
    "    trainX, trainy = train[:, :-1], train[:, -1]\n",
    "    # fit model\n",
    "    model = RandomForestRegressor(n_estimators=10000)\n",
    "    model.fit(trainX, trainy)\n",
    "    # make a one-step prediction\n",
    "    yhat = model.predict([testX])\n",
    "    return yhat[0]\n",
    "\n",
    "# walk-forward validation for univariate data\n",
    "def walk_forward_validation(data, n_test):\n",
    "    predictions = list()\n",
    "    # split dataset\n",
    "    train, test = train_test_split(data, n_test)\n",
    "    # seed history with training dataset\n",
    "    history = [x for x in train]\n",
    "    # step over each time-step in the test set\n",
    "    for i in range(len(test)):\n",
    "        # split test row into input and output columns\n",
    "        testX, testy = test[i, :-1], test[i, -1]\n",
    "        # fit model on history and make a prediction\n",
    "        yhat = random_forest_forecast(history, testX)\n",
    "        # store forecast in list of predictions\n",
    "        predictions.append(yhat)\n",
    "        # add actual observation to history for the next loop\n",
    "        history.append(test[i])\n",
    "        # summarize progress\n",
    "        print('>expected=%.1f, predicted=%.1f' % (testy, yhat))\n",
    "    # estimate prediction error\n",
    "    error = mean_absolute_error(test[:, -1], predictions)\n",
    "    return error, test[:, -1], predictions\n"
   ]
  },
  {
   "cell_type": "code",
   "execution_count": 11,
   "id": "fd3fd29c",
   "metadata": {},
   "outputs": [],
   "source": [
    "values=series.values"
   ]
  },
  {
   "cell_type": "code",
   "execution_count": 12,
   "id": "6276898b",
   "metadata": {},
   "outputs": [
    {
     "data": {
      "text/plain": [
       "366"
      ]
     },
     "execution_count": 12,
     "metadata": {},
     "output_type": "execute_result"
    }
   ],
   "source": [
    "len(values)"
   ]
  },
  {
   "cell_type": "code",
   "execution_count": null,
   "id": "21a6a75f",
   "metadata": {},
   "outputs": [],
   "source": []
  },
  {
   "cell_type": "markdown",
   "id": "d165fb23",
   "metadata": {},
   "source": [
    " \n",
    "# load the dataset\n",
    "series = read_csv('daily-total-female-births-CA.csv', header=0, index_col=0)\n",
    "values = series.values\n"
   ]
  },
  {
   "cell_type": "code",
   "execution_count": 14,
   "id": "07e00ff4",
   "metadata": {},
   "outputs": [
    {
     "ename": "IndexError",
     "evalue": "tuple index out of range",
     "output_type": "error",
     "traceback": [
      "\u001b[1;31m---------------------------------------------------------------------------\u001b[0m",
      "\u001b[1;31mIndexError\u001b[0m                                Traceback (most recent call last)",
      "\u001b[1;32m<ipython-input-14-7a0217579919>\u001b[0m in \u001b[0;36m<module>\u001b[1;34m\u001b[0m\n\u001b[0;32m      1\u001b[0m \u001b[1;31m# transform the time series data into supervised learning\u001b[0m\u001b[1;33m\u001b[0m\u001b[1;33m\u001b[0m\u001b[1;33m\u001b[0m\u001b[0m\n\u001b[1;32m----> 2\u001b[1;33m \u001b[0mdata\u001b[0m \u001b[1;33m=\u001b[0m \u001b[0mseries_to_supervised\u001b[0m\u001b[1;33m(\u001b[0m\u001b[0mvalues\u001b[0m\u001b[1;33m,\u001b[0m \u001b[0mn_in\u001b[0m\u001b[1;33m=\u001b[0m\u001b[1;36m3\u001b[0m\u001b[1;33m)\u001b[0m\u001b[1;33m\u001b[0m\u001b[1;33m\u001b[0m\u001b[0m\n\u001b[0m",
      "\u001b[1;32m<ipython-input-10-c632df3ba13f>\u001b[0m in \u001b[0;36mseries_to_supervised\u001b[1;34m(data, n_in, n_out, dropnan)\u001b[0m\n\u001b[0;32m      9\u001b[0m \u001b[1;31m# transform a time series dataset into a supervised learning dataset\u001b[0m\u001b[1;33m\u001b[0m\u001b[1;33m\u001b[0m\u001b[1;33m\u001b[0m\u001b[0m\n\u001b[0;32m     10\u001b[0m \u001b[1;32mdef\u001b[0m \u001b[0mseries_to_supervised\u001b[0m\u001b[1;33m(\u001b[0m\u001b[0mdata\u001b[0m\u001b[1;33m,\u001b[0m \u001b[0mn_in\u001b[0m\u001b[1;33m=\u001b[0m\u001b[1;36m1\u001b[0m\u001b[1;33m,\u001b[0m \u001b[0mn_out\u001b[0m\u001b[1;33m=\u001b[0m\u001b[1;36m1\u001b[0m\u001b[1;33m,\u001b[0m \u001b[0mdropnan\u001b[0m\u001b[1;33m=\u001b[0m\u001b[1;32mTrue\u001b[0m\u001b[1;33m)\u001b[0m\u001b[1;33m:\u001b[0m\u001b[1;33m\u001b[0m\u001b[1;33m\u001b[0m\u001b[0m\n\u001b[1;32m---> 11\u001b[1;33m     \u001b[0mn_vars\u001b[0m \u001b[1;33m=\u001b[0m \u001b[1;36m1\u001b[0m \u001b[1;32mif\u001b[0m \u001b[0mtype\u001b[0m\u001b[1;33m(\u001b[0m\u001b[0mdata\u001b[0m\u001b[1;33m)\u001b[0m \u001b[1;32mis\u001b[0m \u001b[0mlist\u001b[0m \u001b[1;32melse\u001b[0m \u001b[0mdata\u001b[0m\u001b[1;33m.\u001b[0m\u001b[0mshape\u001b[0m\u001b[1;33m[\u001b[0m\u001b[1;36m1\u001b[0m\u001b[1;33m]\u001b[0m\u001b[1;33m\u001b[0m\u001b[1;33m\u001b[0m\u001b[0m\n\u001b[0m\u001b[0;32m     12\u001b[0m     \u001b[0mdf\u001b[0m \u001b[1;33m=\u001b[0m \u001b[0mDataFrame\u001b[0m\u001b[1;33m(\u001b[0m\u001b[0mdata\u001b[0m\u001b[1;33m)\u001b[0m\u001b[1;33m\u001b[0m\u001b[1;33m\u001b[0m\u001b[0m\n\u001b[0;32m     13\u001b[0m     \u001b[0mcols\u001b[0m \u001b[1;33m=\u001b[0m \u001b[0mlist\u001b[0m\u001b[1;33m(\u001b[0m\u001b[1;33m)\u001b[0m\u001b[1;33m\u001b[0m\u001b[1;33m\u001b[0m\u001b[0m\n",
      "\u001b[1;31mIndexError\u001b[0m: tuple index out of range"
     ]
    }
   ],
   "source": [
    "# transform the time series data into supervised learning\n",
    "data = series_to_supervised(values, n_in=3)"
   ]
  },
  {
   "cell_type": "code",
   "execution_count": null,
   "id": "038f1bd4",
   "metadata": {},
   "outputs": [],
   "source": [
    "data"
   ]
  },
  {
   "cell_type": "code",
   "execution_count": null,
   "id": "6b024c84",
   "metadata": {},
   "outputs": [],
   "source": [
    "# evaluate\n",
    "mae, y, yhat = walk_forward_validation(data, 12)\n",
    "print('MAE: %.3f' % mae)\n",
    "# plot expected vs predicted\n",
    "pyplot.plot(y, label='Expected')\n",
    "pyplot.plot(yhat, label='Predicted')\n",
    "pyplot.legend()\n",
    "pyplot.show()"
   ]
  },
  {
   "cell_type": "code",
   "execution_count": null,
   "id": "dcd0be22",
   "metadata": {},
   "outputs": [],
   "source": []
  },
  {
   "cell_type": "code",
   "execution_count": null,
   "id": "78f5ac23",
   "metadata": {},
   "outputs": [],
   "source": []
  }
 ],
 "metadata": {
  "kernelspec": {
   "display_name": "Python 3",
   "language": "python",
   "name": "python3"
  },
  "language_info": {
   "codemirror_mode": {
    "name": "ipython",
    "version": 3
   },
   "file_extension": ".py",
   "mimetype": "text/x-python",
   "name": "python",
   "nbconvert_exporter": "python",
   "pygments_lexer": "ipython3",
   "version": "3.8.8"
  }
 },
 "nbformat": 4,
 "nbformat_minor": 5
}
